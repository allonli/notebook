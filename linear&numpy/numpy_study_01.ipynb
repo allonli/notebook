{
 "cells": [
  {
   "cell_type": "markdown",
   "metadata": {},
   "source": [
    "# numpy基础入门 ——by 黑板客"
   ]
  },
  {
   "cell_type": "code",
   "execution_count": 3,
   "metadata": {
    "collapsed": true
   },
   "outputs": [],
   "source": [
    "import numpy as np"
   ]
  },
  {
   "cell_type": "markdown",
   "metadata": {},
   "source": [
    "### 1. 矩阵的创建"
   ]
  },
  {
   "cell_type": "code",
   "execution_count": 20,
   "metadata": {
    "collapsed": false
   },
   "outputs": [
    {
     "name": "stdout",
     "output_type": "stream",
     "text": [
      "\n",
      " a =  [[[[1 2 3 4 5]\n",
      "   [1 1 1 3 6]\n",
      "   [1 0 1 3 1]]]] \n",
      " a.type =  int64 \n",
      " a.shape =  (1, 1, 3, 5) \n",
      " a.size =  15 \n",
      " a.ndim =  4\n"
     ]
    }
   ],
   "source": [
    "# a=np.arange(1,5)\n",
    "# print 'a = ' ,a\n",
    "a=np.array([[[[1,2,3,4,5],[1,1,1,3,6],[1,0,1,3,1]]]])\n",
    "print '\\n a = ',a, '\\n a.type = ',a.dtype,'\\n a.shape = ', a.shape,'\\n a.size = ', a.size,'\\n a.ndim = ', a.ndim"
   ]
  },
  {
   "cell_type": "markdown",
   "metadata": {},
   "source": [
    "    np.arange类似range函数\n",
    "    np.array用来生成矩阵\n",
    "    dtype是数据类型，有int64, complex, uint16等\n",
    "    shape是个元组属性，表示每一维的宽度\n",
    "    size是所有元素个数\n",
    "    ndim是维数"
   ]
  },
  {
   "cell_type": "code",
   "execution_count": 14,
   "metadata": {
    "collapsed": false
   },
   "outputs": [
    {
     "name": "stdout",
     "output_type": "stream",
     "text": [
      "[ 1.  2.  3.] float16\n"
     ]
    }
   ],
   "source": [
    "b=np.array([1,2,3],dtype='float16') # int64, complex, uint16......\n",
    "print b, b.dtype"
   ]
  },
  {
   "cell_type": "code",
   "execution_count": 5,
   "metadata": {
    "collapsed": false
   },
   "outputs": [
    {
     "name": "stdout",
     "output_type": "stream",
     "text": [
      "[[0 1 2 3 4 5]\n",
      " [0 1 2 3 4 5]] (2, 6) 12\n"
     ]
    }
   ],
   "source": [
    "m=np.array([np.arange(6),np.arange(6)])\n",
    "print m, m.shape, m.size"
   ]
  },
  {
   "cell_type": "code",
   "execution_count": 33,
   "metadata": {
    "collapsed": false,
    "scrolled": true
   },
   "outputs": [
    {
     "name": "stdout",
     "output_type": "stream",
     "text": [
      "4 6\n",
      "(4, 3)\n",
      "2\n"
     ]
    }
   ],
   "source": [
    "# 每一个[]代表一维，比如\n",
    "# [[[1,2,3],[4,5,6]],[[7,8,9],[10,11,12]]], 代表矩阵的维度是(2,2,3)\n",
    "# 其中第一个2，代表最外层的两个[]，第二个2代表第二层[]，第三个3代表最里层的维度。\n",
    "n=np.array([[1,2,3,4],[5,6,7,8]])\n",
    "print n[0,3], n[1,1]\n",
    "\n",
    "m=np.array([[1,2,3],[4,5,6],[7,8,9],[10,11,12]])\n",
    "print m.shape\n",
    "print m.ndim"
   ]
  },
  {
   "cell_type": "code",
   "execution_count": null,
   "metadata": {
    "collapsed": false
   },
   "outputs": [],
   "source": [
    "x=m.ravel()\n",
    "y=n.flatten()\n",
    "print x\n",
    "print y"
   ]
  },
  {
   "cell_type": "markdown",
   "metadata": {},
   "source": [
    "    ravel()和flatten()看起来效果一样，都是把矩阵展平了。它们的区别在于\n",
    "    ravel()返回的是原有数据的一个映射(view)，没有分配新的存储\n",
    "    flatten()返回的是新的数据\n",
    "    因此如果我们改变它们的值，就可以看出区别\n",
    "    \n",
    "    numpy还有一些函数有这样的区别，关键在于判断函数返回是原数据的映射还是返回新的数据。"
   ]
  },
  {
   "cell_type": "code",
   "execution_count": null,
   "metadata": {
    "collapsed": false
   },
   "outputs": [],
   "source": [
    "x[3]=10;y[3]=10\n",
    "print m\n",
    "print n\n",
    "# 看看m，n哪个的值改变了"
   ]
  },
  {
   "cell_type": "code",
   "execution_count": null,
   "metadata": {
    "collapsed": false
   },
   "outputs": [],
   "source": [
    "# reshape返回一个view\n",
    "x=m.reshape(3,4)\n",
    "# resize直接在当前数据上更改，返回空\n",
    "y=n.resize(3,4)\n",
    "print x,y,'\\n',n"
   ]
  },
  {
   "cell_type": "code",
   "execution_count": null,
   "metadata": {
    "collapsed": false
   },
   "outputs": [],
   "source": [
    "x[2]=10;print x;print m\n",
    "# 看看m和n哪个改变了，有什么区别"
   ]
  },
  {
   "cell_type": "code",
   "execution_count": 36,
   "metadata": {
    "collapsed": false
   },
   "outputs": [
    {
     "name": "stdout",
     "output_type": "stream",
     "text": [
      "[[ 0  1  2  3]\n",
      " [ 4  5  0  1]\n",
      " [10 10 10 10]]\n",
      "[[0 1 2 3 4 5]\n",
      " [0 1 2 3 4 5]]\n"
     ]
    }
   ],
   "source": [
    "m=np.array([np.arange(6),np.arange(6)])\n",
    "# copy()可以强制返回一个新的数据\n",
    "x=m.reshape(3,4).copy()\n",
    "x[2]=10;print x;print m\n",
    "#看看这次m的值随x改变而改变吗"
   ]
  },
  {
   "cell_type": "code",
   "execution_count": null,
   "metadata": {
    "collapsed": false
   },
   "outputs": [],
   "source": [
    "# linspace返回0,1之间的10个数据，它们之间的间隔自动计算\n",
    "x=np.linspace(0,1,10)\n",
    "print x"
   ]
  },
  {
   "cell_type": "code",
   "execution_count": null,
   "metadata": {
    "collapsed": false
   },
   "outputs": [],
   "source": [
    "a = np.arange(10)\n",
    "np.random.shuffle(a)  # 随机排第一维\n",
    "print a\n",
    "\n",
    "a = np.arange(9).reshape((3, 3)) # 随机排第一维，想一想结果是什么\n",
    "np.random.shuffle(a)\n",
    "print a"
   ]
  },
  {
   "cell_type": "code",
   "execution_count": 34,
   "metadata": {
    "collapsed": false
   },
   "outputs": [
    {
     "name": "stdout",
     "output_type": "stream",
     "text": [
      "[[ 1.  0.  0.]\n",
      " [ 0.  1.  0.]\n",
      " [ 0.  0.  1.]]\n"
     ]
    }
   ],
   "source": [
    "# 全0矩阵\n",
    "a=np.zeros((3,3))\n",
    "# 全1矩阵\n",
    "b=np.ones((5,4))\n",
    "# 单位矩阵\n",
    "c=np.eye(3)\n",
    "# 取对角元素\n",
    "np.diag(b)\n",
    "\n",
    "print c"
   ]
  },
  {
   "cell_type": "markdown",
   "metadata": {},
   "source": [
    "### 2. 矩阵的加法"
   ]
  },
  {
   "cell_type": "code",
   "execution_count": 4,
   "metadata": {
    "collapsed": false
   },
   "outputs": [
    {
     "name": "stdout",
     "output_type": "stream",
     "text": [
      "[[0 1 2]\n",
      " [3 4 5]\n",
      " [6 7 8]]\n",
      "[[ 3  4  5]\n",
      " [ 6  7  8]\n",
      " [ 9 10 11]]\n",
      "[[ 0  2  4]\n",
      " [ 3  5  7]\n",
      " [ 6  8 10]]\n",
      "[[ 0  1  2]\n",
      " [ 4  5  6]\n",
      " [ 8  9 10]]\n"
     ]
    }
   ],
   "source": [
    "a = np.arange(9).reshape((3, 3))\n",
    "\n",
    "## 每个元素的broadcast\n",
    "print a\n",
    "print a+3\n",
    "\n",
    "## 行broadcast\n",
    "print a+np.arange(3)\n",
    "\n",
    "## 列broadcast\n",
    "print a+np.arange(3).reshape(3,1)"
   ]
  },
  {
   "cell_type": "markdown",
   "metadata": {},
   "source": [
    "    broadcast广播操作\n",
    "    运算不仅仅作用在某个元素，而是作用在整个矩阵，或者整行，或者整列。\n",
    "    比如\n",
    "    n*m + 1*1 就是将1*1的元素作用在n*m的整个矩阵\n",
    "    n*m + n*1 就是将n*1的元素作用在n*m的每一列\n",
    "    n*m + 1*m 就是将1*m的元素作用在n*m的每一行\n",
    "    乘法类似"
   ]
  },
  {
   "cell_type": "code",
   "execution_count": 11,
   "metadata": {
    "collapsed": false
   },
   "outputs": [
    {
     "name": "stdout",
     "output_type": "stream",
     "text": [
      "[4 6]\n",
      "[3 7]\n",
      "[ 2.  3.]\n",
      "[ 1.5  3.5]\n",
      "[ 1.  1.]\n",
      "[[ 6  8 10]\n",
      " [12 14 16]]\n",
      "[[ 3  5  7]\n",
      " [15 17 19]]\n",
      "[[ 3 12]\n",
      " [21 30]]\n"
     ]
    }
   ],
   "source": [
    "a = np.array([[1, 2], [3, 4]])\n",
    "print np.sum(a,axis=0)\n",
    "print np.sum(a,axis=1)\n",
    "print np.mean(a,axis=0)\n",
    "print np.mean(a,axis=1)\n",
    "print np.std(a,axis=0)\n",
    "\n",
    "#axis=0，就是按第一个维度进行计算，行向量[1,2], [3,4]\n",
    "#axis=1，就是按第二个维度进行计算，列向量[1,3], [2,4]"
   ]
  },
  {
   "cell_type": "code",
   "execution_count": 12,
   "metadata": {
    "collapsed": false
   },
   "outputs": [
    {
     "name": "stdout",
     "output_type": "stream",
     "text": [
      "[[ 6  8 10]\n",
      " [12 14 16]]\n",
      "[[ 3  5  7]\n",
      " [15 17 19]]\n",
      "[[ 3 12]\n",
      " [21 30]]\n"
     ]
    }
   ],
   "source": [
    "#再拓展到3维\n",
    "a = np.arange(12).reshape((2,2,3))\n",
    "print np.sum(a,axis=0) #按第一维度加，结果为2*3矩阵, 可以理解为1*2*3\n",
    "print np.sum(a,axis=1) #按第二维度加，结果为2*3矩阵, 可以理解为2*1*3\n",
    "print np.sum(a,axis=2) #按第三维度加，结果为2*2矩阵, 可以理解为2*2*1"
   ]
  },
  {
   "cell_type": "markdown",
   "metadata": {},
   "source": [
    "### 3. 矩阵的转置"
   ]
  },
  {
   "cell_type": "code",
   "execution_count": 38,
   "metadata": {
    "collapsed": false
   },
   "outputs": [
    {
     "name": "stdout",
     "output_type": "stream",
     "text": [
      "[[0 0]\n",
      " [1 1]\n",
      " [2 2]\n",
      " [3 3]\n",
      " [4 4]\n",
      " [5 5]]\n",
      "[[0 0]\n",
      " [1 1]\n",
      " [2 2]\n",
      " [3 3]\n",
      " [4 4]\n",
      " [5 5]]\n"
     ]
    }
   ],
   "source": [
    "print m.transpose()\n",
    "print m.T"
   ]
  },
  {
   "cell_type": "markdown",
   "metadata": {},
   "source": [
    "### 4. 矩阵的乘法"
   ]
  },
  {
   "cell_type": "code",
   "execution_count": null,
   "metadata": {
    "collapsed": false
   },
   "outputs": [],
   "source": [
    "a = np.arange(12).reshape((6, 2))\n",
    "b = np.arange(10).reshape((2,5))\n",
    "\n",
    "# 两种矩阵乘法形式\n",
    "print a.dot(b)\n",
    "print np.dot(a,b)"
   ]
  },
  {
   "cell_type": "code",
   "execution_count": null,
   "metadata": {
    "collapsed": false
   },
   "outputs": [],
   "source": [
    "## 每个元素broadcast\n",
    "print a*2"
   ]
  },
  {
   "cell_type": "code",
   "execution_count": null,
   "metadata": {
    "collapsed": false
   },
   "outputs": [],
   "source": [
    "# 行broadcast\n",
    "print a*[1,2]"
   ]
  },
  {
   "cell_type": "code",
   "execution_count": null,
   "metadata": {
    "collapsed": false
   },
   "outputs": [],
   "source": [
    "# 列broadcast\n",
    "print a*np.arange(6).reshape(6,1)"
   ]
  },
  {
   "cell_type": "markdown",
   "metadata": {},
   "source": [
    "### 5.矩阵的拼接"
   ]
  },
  {
   "cell_type": "code",
   "execution_count": null,
   "metadata": {
    "collapsed": false
   },
   "outputs": [],
   "source": [
    "a = np.arange(9).reshape(3,3)\n",
    "b = 2 * a\n",
    "c = np.hstack((a, b))\n",
    "print c"
   ]
  },
  {
   "cell_type": "code",
   "execution_count": null,
   "metadata": {
    "collapsed": false
   },
   "outputs": [],
   "source": [
    "print np.concatenate((a, b), axis=1)"
   ]
  },
  {
   "cell_type": "code",
   "execution_count": null,
   "metadata": {
    "collapsed": false
   },
   "outputs": [],
   "source": [
    "c=np.vstack((a, b))\n",
    "c=np.concatenate((a, b), axis=0)\n",
    "\n",
    "print np.hsplit(a, 3)\n",
    "print np.vsplit(a,3)"
   ]
  },
  {
   "cell_type": "markdown",
   "metadata": {},
   "source": [
    "### 6. 矩阵的查找"
   ]
  },
  {
   "cell_type": "code",
   "execution_count": null,
   "metadata": {
    "collapsed": false
   },
   "outputs": [],
   "source": [
    "a = np.arange(12).reshape((3, 4))\n",
    "b = a%2==0\n",
    "c = a>4\n",
    "print b\n",
    "print c\n",
    "# 这里也用到了broadcast"
   ]
  },
  {
   "cell_type": "code",
   "execution_count": null,
   "metadata": {
    "collapsed": false
   },
   "outputs": [],
   "source": [
    "a = np.arange(12).reshape((3, 4))\n",
    "print a\n",
    "print np.argmax(a)\n",
    "# 其实是列broadcast，返回每列最大值的idx\n",
    "print np.argmax(a, axis=0)\n",
    "\n",
    "# 行broadcast，返回每行最大值的idx\n",
    "print np.argmax(a, axis=1)"
   ]
  },
  {
   "cell_type": "code",
   "execution_count": null,
   "metadata": {
    "collapsed": false
   },
   "outputs": [],
   "source": [
    "# np.where支持多个逻辑组合, 得到满足条件的index\n",
    "idx=np.where((a>3))\n",
    "print a[idx]\n",
    "\n",
    "idx=np.where((a>3)&(a<7))\n",
    "print a[idx]"
   ]
  },
  {
   "cell_type": "markdown",
   "metadata": {},
   "source": [
    "### 7. homework"
   ]
  },
  {
   "cell_type": "markdown",
   "metadata": {},
   "source": [
    "1. http://www.labri.fr/perso/nrougier/teaching/numpy.100/"
   ]
  },
  {
   "cell_type": "code",
   "execution_count": 40,
   "metadata": {
    "collapsed": false
   },
   "outputs": [
    {
     "name": "stdout",
     "output_type": "stream",
     "text": [
      "[ 0.  0.  0.  0.  0.  0.  0.  0.  0.  0.]\n"
     ]
    }
   ],
   "source": [
    "Z = np.zeros(10)\n",
    "print Z"
   ]
  },
  {
   "cell_type": "code",
   "execution_count": 41,
   "metadata": {
    "collapsed": false
   },
   "outputs": [
    {
     "name": "stdout",
     "output_type": "stream",
     "text": [
      "[ 0.  0.  0.  0.  1.  0.  0.  0.  0.  0.]\n"
     ]
    }
   ],
   "source": [
    "Z[4]=1\n",
    "print Z"
   ]
  },
  {
   "cell_type": "code",
   "execution_count": 46,
   "metadata": {
    "collapsed": false
   },
   "outputs": [
    {
     "name": "stdout",
     "output_type": "stream",
     "text": [
      "[ 0  1  2  3  4  5  6  7  8  9 10 11 12 13 14 15 16 17 18 19 20 21 22 23 24\n",
      " 25 26 27 28 29 30 31 32 33 34 35 36 37 38 39 40 41 42 43 44 45 46 47 48 49]\n",
      "[49 48 47 46 45 44 43 42 41 40 39 38 37 36 35 34 33 32 31 30 29 28 27 26 25\n",
      " 24 23 22 21 20 19 18 17 16 15 14 13 12 11 10  9  8  7  6  5  4  3  2  1  0]\n"
     ]
    }
   ],
   "source": [
    "Z = np.arange(50)\n",
    "print Z\n",
    "Z = Z[::-1]\n",
    "print Z"
   ]
  },
  {
   "cell_type": "code",
   "execution_count": 51,
   "metadata": {
    "collapsed": false
   },
   "outputs": [
    {
     "name": "stdout",
     "output_type": "stream",
     "text": [
      "('x reshape = ', array([0, 1, 2, 3, 4, 5, 6, 7, 8]))\n",
      "('x resize = ', array([[0, 1, 2],\n",
      "       [3, 4, 5],\n",
      "       [6, 7, 8]]))\n"
     ]
    }
   ],
   "source": [
    "X = np.arange(9)\n",
    "Z = X.reshape(3,3)\n",
    "print(\"x reshape = \",X)\n",
    "Y = X.resize(3,3)\n",
    "print(\"x resize = \" ,X)"
   ]
  },
  {
   "cell_type": "code",
   "execution_count": 52,
   "metadata": {
    "collapsed": false
   },
   "outputs": [
    {
     "name": "stdout",
     "output_type": "stream",
     "text": [
      "(array([0, 1, 4]),)\n"
     ]
    }
   ],
   "source": [
    "nz = np.nonzero([1,2,0,0,4,0])\n",
    "print(nz)"
   ]
  },
  {
   "cell_type": "code",
   "execution_count": 5,
   "metadata": {
    "collapsed": false
   },
   "outputs": [
    {
     "name": "stdout",
     "output_type": "stream",
     "text": [
      "[[ 0.2459478   0.16249934  0.99992354]\n",
      " [ 0.51003774  0.5515945   0.31949699]\n",
      " [ 0.80565174  0.9105646   0.25438162]]\n"
     ]
    }
   ],
   "source": [
    "Z = np.random.random((3,3))\n",
    "print(Z)"
   ]
  },
  {
   "cell_type": "code",
   "execution_count": 9,
   "metadata": {
    "collapsed": false
   },
   "outputs": [
    {
     "data": {
      "text/plain": [
       "array([[ 18161.18865346, -10281.00344345,  -7920.55457541],\n",
       "       [-32269.05148033,  29901.67148503,   2168.21634301],\n",
       "       [ -6381.69649077,   6179.40415095,    216.44042131]])"
      ]
     },
     "execution_count": 9,
     "metadata": {},
     "output_type": "execute_result"
    }
   ],
   "source": [
    "np.linalg.inv(Z.T.dot(Z))*Z"
   ]
  },
  {
   "cell_type": "code",
   "execution_count": 12,
   "metadata": {
    "collapsed": false
   },
   "outputs": [
    {
     "data": {
      "text/plain": [
       "array([[ 0.2459478 ,  0.51003774,  0.80565174],\n",
       "       [ 0.16249934,  0.5515945 ,  0.9105646 ],\n",
       "       [ 0.99992354,  0.31949699,  0.25438162]])"
      ]
     },
     "execution_count": 12,
     "metadata": {},
     "output_type": "execute_result"
    }
   ],
   "source": [
    "Z.T"
   ]
  },
  {
   "cell_type": "code",
   "execution_count": 14,
   "metadata": {
    "collapsed": false
   },
   "outputs": [
    {
     "name": "stdout",
     "output_type": "stream",
     "text": [
      "[[ 1 -1]\n",
      " [ 1  1]]\n"
     ]
    }
   ],
   "source": [
    "C = np.array([[1,-1],[1,1]])\n",
    "print C"
   ]
  },
  {
   "cell_type": "code",
   "execution_count": 23,
   "metadata": {
    "collapsed": false
   },
   "outputs": [
    {
     "data": {
      "text/plain": [
       "array([ 1, -1])"
      ]
     },
     "execution_count": 23,
     "metadata": {},
     "output_type": "execute_result"
    }
   ],
   "source": [
    "C[0].T"
   ]
  },
  {
   "cell_type": "code",
   "execution_count": null,
   "metadata": {
    "collapsed": true
   },
   "outputs": [],
   "source": []
  }
 ],
 "metadata": {
  "kernelspec": {
   "display_name": "Python 2",
   "language": "python",
   "name": "python2"
  },
  "language_info": {
   "codemirror_mode": {
    "name": "ipython",
    "version": 2
   },
   "file_extension": ".py",
   "mimetype": "text/x-python",
   "name": "python",
   "nbconvert_exporter": "python",
   "pygments_lexer": "ipython2",
   "version": "2.7.10"
  }
 },
 "nbformat": 4,
 "nbformat_minor": 0
}
